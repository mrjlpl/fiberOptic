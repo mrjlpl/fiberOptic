{
  "nbformat": 4,
  "nbformat_minor": 0,
  "metadata": {
    "colab": {
      "provenance": []
    },
    "kernelspec": {
      "name": "python3",
      "display_name": "Python 3"
    },
    "language_info": {
      "name": "python"
    }
  },
  "cells": [
    {
      "cell_type": "code",
      "execution_count": null,
      "metadata": {
        "id": "NpQuDsAnuVv4"
      },
      "outputs": [],
      "source": [
        "## REQUIRED LIBRARIES\n",
        "# For data wrangling \n",
        "import numpy as np\n",
        "import pandas as pd\n",
        "\n",
        "from sklearn.tree import DecisionTreeRegressor\n",
        "from sklearn.model_selection import cross_val_score\n",
        "\n",
        "# For visualization\n",
        "import matplotlib.pyplot as plt\n",
        "import seaborn as sns\n",
        "\n",
        "# Default params\n",
        "pd.set_option('display.float_format', lambda x: '%.10f' % x)\n",
        "DATASET = \"drive/MyDrive/Fiber/Dataset\""
      ]
    },
    {
      "cell_type": "code",
      "source": [
        "import glob\n",
        "from google.colab import drive\n",
        "drive.mount('/content/drive')\n",
        "\n",
        "df = pd.DataFrame()\n",
        "for sesion in glob.glob(f'{DATASET}/sesion*'):\n",
        "  sesion_id = sesion.split('_')[1]\n",
        "  sensor_id = f'sensor{sesion_id}'\n",
        "  for name2 in glob.glob(f'{sesion}/*'):\n",
        "    \n",
        "    colnames=['id', 'air']\n",
        "    data_air = pd.read_csv(f'{sesion}/{sensor_id}_air.txt', sep=',', names=colnames, header=0)\n",
        "    colnames=['id', 'water']\n",
        "    data_water = pd.read_csv(f'{sesion}/{sensor_id}_water.txt', sep=',', names=colnames, header=0)\n",
        "    data_water = data_water.drop([\"id\"], axis = 1)\n",
        "    colnames=['id', 'izopropanol']\n",
        "    data_izo = pd.read_csv(f'{sesion}/{sensor_id}_izopropanol.txt', sep=',', names=colnames, header=0)\n",
        "    data_izo = data_izo.drop([\"id\"], axis = 1)\n",
        "\n",
        "    df_sesion = pd.concat([data_air,data_water, data_izo], axis=1)\n",
        "\n",
        "  df = pd.concat([df, df_sesion], axis=0)\n",
        "\n",
        "df = df.drop([\"id\"], axis = 1)"
      ],
      "metadata": {
        "colab": {
          "base_uri": "https://localhost:8080/"
        },
        "id": "HufTISZ7Dyxz",
        "outputId": "4bb50408-acfc-489d-db0f-2fb53c938ed6"
      },
      "execution_count": null,
      "outputs": [
        {
          "output_type": "stream",
          "name": "stdout",
          "text": [
            "Drive already mounted at /content/drive; to attempt to forcibly remount, call drive.mount(\"/content/drive\", force_remount=True).\n"
          ]
        }
      ]
    },
    {
      "cell_type": "code",
      "source": [
        "X_train = df[[\"air\"]]\n",
        "y_train = df[[\"water\", \"izopropanol\"]]\n",
        "\n",
        "model = DecisionTreeRegressor(max_depth=5)\n",
        "model.fit(X_train, y_train)\n",
        "\n",
        "y_pred = model.predict(X_train)\n"
      ],
      "metadata": {
        "id": "n0XpuxbP5KKW"
      },
      "execution_count": null,
      "outputs": []
    }
  ]
}